{
 "metadata": {
  "language_info": {
   "codemirror_mode": {
    "name": "ipython",
    "version": 3
   },
   "file_extension": ".py",
   "mimetype": "text/x-python",
   "name": "python",
   "nbconvert_exporter": "python",
   "pygments_lexer": "ipython3",
   "version": "3.8.5-final"
  },
  "orig_nbformat": 2,
  "kernelspec": {
   "name": "Python 3.8.5 64-bit ('PGTApp')",
   "display_name": "Python 3.8.5 64-bit ('PGTApp')",
   "metadata": {
    "interpreter": {
     "hash": "92af7cfb7e5e1f7375bbd05c62ce5d5304b26e8000ce843c184c8151acefd670"
    }
   }
  }
 },
 "nbformat": 4,
 "nbformat_minor": 2,
 "cells": [
  {
   "cell_type": "code",
   "execution_count": 32,
   "metadata": {},
   "outputs": [],
   "source": [
    "import pandas as pd\n",
    "from difflib import get_close_matches"
   ]
  },
  {
   "cell_type": "code",
   "execution_count": 33,
   "metadata": {},
   "outputs": [],
   "source": [
    "df = pd.read_csv('Datalogger1.csv')"
   ]
  },
  {
   "cell_type": "code",
   "execution_count": null,
   "metadata": {},
   "outputs": [],
   "source": [
    "names = {\n",
    "  'Id': 'Line',\n",
    "  'Time': 'Time',\n",
    "  'LA': 'Latitude',\n",
    "  'LO': 'Longitude',\n",
    "  'ME_loard': 'ME Load',\n",
    "  'AE1_loard': 'AE1 Load',\n",
    "  'AE2_loard': 'AE2 Load',\n",
    "  'AE3_loard': 'AE3 Load',\n",
    "  'ME_AE1_AE2_AE3_loard__MW': 'Total Load',\n",
    "  'P101_speed': 'P101 rpm',\n",
    "  'P102_speed': 'P102 rpm',\n",
    "  'P103_speed': 'P103 rpm',\n",
    "  'FT201_FT202_FT203_ALL_FLOW__Total_Flow': 'Total Flow',\n",
    "  'SO2CO2': 'S/C',\n",
    "  'TBD101_inlet': 'TBD SW',\n",
    "  'TBD101_outlet': 'TBD WW',\n",
    "  'TBD_difference': 'TBD Diff',\n",
    "  'PH101_inlet': 'PH101 SW',\n",
    "  'PH101_outlet': 'PH101 WW',\n",
    "  'PAH101_inlet': 'PAH SW',\n",
    "  'PAH101_outlet': 'PAH WW',\n",
    "  'PAH101_difference': 'PAH Diff',\n",
    "  'Vessel_name': 'Vessel',\n",
    "  'IMO_number': 'IMO#',\n",
    "  'DV201_bypass': 'DV201 ByP',\n",
    "  'DV201_Scrubber': 'DV201 Scr',\n",
    "  'DV202_bypass': 'DV202 ByP',\n",
    "  'DV202_Scrubber': 'DV202 Scr',\n",
    "  'DV203_bypass': 'DV203 ByP',\n",
    "  'DV203_Scrubber': 'DV203 Scr',\n",
    "  'DV204_bypass': 'DV204 ByP',\n",
    "  'DV204_Scrubber': 'DV204 Scr',\n",
    "}\n",
    "def renamefunc(col_name):\n",
    "    matches = get_close_matches(col_name, names.keys())\n",
    "    if not matches:\n",
    "        return col_name\n",
    "    else:\n",
    "        return matches.get(matches[0])\n",
    "        \n"
   ]
  }
 ]
}